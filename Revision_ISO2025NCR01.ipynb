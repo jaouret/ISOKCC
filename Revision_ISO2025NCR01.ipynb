{
 "cells": [
  {
   "cell_type": "markdown",
   "id": "93674a39-f1af-4fda-ad59-77f5f3d957ac",
   "metadata": {},
   "source": [
    "# ISO 9001 2015  Kaufer 2025 - AUDIT PLAN N° 24 BU 228 CE - 11/04/2025\n",
    "## Revisión INFORME DE AUDITORÍA N° 24 BU 28 CE - 11/04/2025\n",
    "### Documento: Revisión_ISO2025NCR01.ipynb - Rev. 20250508\n"
   ]
  },
  {
   "cell_type": "markdown",
   "id": "e0cbfb0a-f39d-4494-9434-9d9f02871393",
   "metadata": {},
   "source": [
    "## Revisión de No Conformidades de la auditoria del 2025"
   ]
  },
  {
   "cell_type": "markdown",
   "id": "32ae0dc1-4ccf-4597-b880-eb8c046c83d5",
   "metadata": {},
   "source": [
    "### FINDING N 1\n",
    "Documentos de la Organización   \n",
    "P7-6201 Recursos Humanos rev. 9   \n",
    "Area involucrada   \n",
    "RRHH   \n",
    "**Clasificación B**\n",
    "\n",
    "Párrafo de la norma 7.3   \n",
    "**Descripción de la Observación**   \n",
    "No se evidencia en todos los casos la toma de conciencia sobre la política de calidad al ingreso, E.O. Alejandra Arrua sin registro de\n",
    "capacitación sobre temas del sistema de gestión de la calidad.\n",
    "\n",
    "\n",
    "### Analisis de las causas\n",
    "El área de Recursos Humanos de la Clínica no completó los requisitos del Procedimiento con respecto a la capacitación sobre el Sistema de Gestión de la Calidad (SGC) para todo nuevo empleado, y el registro de la misma. Al consultar al área por la razones de la falta de capacitación se indicó que quedó como un tema pendiente sin resolución por la carga de trabajo.\n",
    "\n",
    "### Corrección\n",
    "Se indica al área de RRHH que es obligatoria la capacitación en el SGC y que debe realizarse en un lapso no mayor a las 2 semanas del ingreso de la persona en funciones. Para este caso en particular se realiza la capacitación, acorde a lo requerido, en la primer semana de mayo de 2025 y se deja registro de la misma (D7-6216.Rx.Registro_Capacitaciones)\n",
    "\n",
    "### Acción correctiva propuesta\n",
    "Modificar el documento P7-6201.Rx.Recursos_Humanos para incluir la obligatoriedad y plazo máximo para realizar la capacitación en el SGC a todo nuevo empleado. Recordar a RRHH que deben tener presente el P7-6201.R10.Recursos_Humanos y que es mandatorio el cumplimiento de los procedimientos establecidos por el SGC. Entregar y recibir firmada una notificación interna con lo expuesto en esta NC.   \n",
    "Documento relacionado: P7-6201.Rx.Recursos_Humanos    \n",
    " \n",
    "### Fecha de implementación: 15/5/2025\n"
   ]
  },
  {
   "cell_type": "markdown",
   "id": "618afcad-b9e2-4f1d-9796-b4674e4ea7b7",
   "metadata": {},
   "source": [
    "### FINDING N 2\n",
    "Documentos de la Organización   \n",
    "D8 7204 Atención Telefonica rev. 4 \n",
    "Area involucrada   \n",
    "Recepción\n",
    "**Clasificación B**\n",
    "\n",
    "Párrafo de la norma 8.2   \n",
    "**Descripción de la Observación**   \n",
    "No se asegura en todos los casos utilizar un documento controlado para las plantillas de respuesta a los pacientes. E.O. documentos\n",
    "venta turnos telefónicos 2024-2025 sin codificar y sin nivel de revisión\n",
    "\n",
    "\n",
    "### Analisis de las causas\n",
    "El área de Atención Telefónica de la Clínica no notificó al área de Calidad la implementación de 2 documentos que se envían por Whatsapp y/o por correo electrónico a los pacientes. Documento 1: Información relativa a los servicios de la clínica y su costo. Documento 2: Confirmación del turno e información relativa a cómo debe concurrir el paciente al turno. La causa de la notificación tuvo como argumento que las responsables no tenían presente la obligatoriedad de que todo documento nuevo del Sistema de Gestión de la Calidad (SGC) debe estar codificado y con nivel de revisión.\n",
    "\n",
    "### Corrección\n",
    "Se registran los 2 documentos en el SGC (D8-72273.Rx.ATENCION_TELEFONICA_INFORMACION_SERVICIOS, D8-72274.Rx.ATENCION_TELEFONICA_CONFIRMACION_TURNO) y se indica al área de Atención de Telefónica de immplementar su uso en forma inmediata. \n",
    "\n",
    "### Acción correctiva propuesta\n",
    "Modificar el documento D8-7204.Rx.CHECK-LIST_ATENCION_TELEFONICA para incluir los documentos indicados y su forma de comunicación al paciente. Realizar una breve evaluación al sector de Atención Telefónica sobre los requisitos del SGC en la última semana de mayo de 2025 y se dejará registro de la misma (D7-6216.R2.Registro_Capacitaciones).   \n",
    "Documentos relacionados:     \n",
    "D8-7204.Rx.CHECK-LIST_ATENCION_TELEFONICA   \n",
    "D8-72273.R1.ATENCION_TELEFONICA_INFORMACION_SERVICIOS   \n",
    "D8-72274.R1.ATENCION_TELEFONICA_CONFIRMACION_TURNO   \n",
    "\n",
    "### Fecha de implementación estimada   28/5/2025\n"
   ]
  }
 ],
 "metadata": {
  "kernelspec": {
   "display_name": "Python 3 (ipykernel)",
   "language": "python",
   "name": "python3"
  },
  "language_info": {
   "codemirror_mode": {
    "name": "ipython",
    "version": 3
   },
   "file_extension": ".py",
   "mimetype": "text/x-python",
   "name": "python",
   "nbconvert_exporter": "python",
   "pygments_lexer": "ipython3",
   "version": "3.13.3"
  }
 },
 "nbformat": 4,
 "nbformat_minor": 5
}
